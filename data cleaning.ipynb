{
 "cells": [
  {
   "cell_type": "markdown",
   "id": "1e50d82d",
   "metadata": {},
   "source": [
    "# Importing libraries and the dataset"
   ]
  },
  {
   "cell_type": "code",
   "execution_count": 3,
   "id": "9a47bc31",
   "metadata": {},
   "outputs": [],
   "source": [
    "import pandas as pd\n",
    "import numpy as np"
   ]
  },
  {
   "cell_type": "code",
   "execution_count": 4,
   "id": "e3072f38",
   "metadata": {},
   "outputs": [],
   "source": [
    "df=pd.read_csv('wines_SPA.csv')"
   ]
  },
  {
   "cell_type": "code",
   "execution_count": 5,
   "id": "0ee54770",
   "metadata": {
    "scrolled": false
   },
   "outputs": [
    {
     "data": {
      "text/html": [
       "<div>\n",
       "<style scoped>\n",
       "    .dataframe tbody tr th:only-of-type {\n",
       "        vertical-align: middle;\n",
       "    }\n",
       "\n",
       "    .dataframe tbody tr th {\n",
       "        vertical-align: top;\n",
       "    }\n",
       "\n",
       "    .dataframe thead th {\n",
       "        text-align: right;\n",
       "    }\n",
       "</style>\n",
       "<table border=\"1\" class=\"dataframe\">\n",
       "  <thead>\n",
       "    <tr style=\"text-align: right;\">\n",
       "      <th></th>\n",
       "      <th>winery</th>\n",
       "      <th>wine</th>\n",
       "      <th>year</th>\n",
       "      <th>rating</th>\n",
       "      <th>num_reviews</th>\n",
       "      <th>country</th>\n",
       "      <th>region</th>\n",
       "      <th>price</th>\n",
       "      <th>type</th>\n",
       "      <th>body</th>\n",
       "      <th>acidity</th>\n",
       "    </tr>\n",
       "  </thead>\n",
       "  <tbody>\n",
       "    <tr>\n",
       "      <th>0</th>\n",
       "      <td>Teso La Monja</td>\n",
       "      <td>Tinto</td>\n",
       "      <td>2013</td>\n",
       "      <td>4.9</td>\n",
       "      <td>58</td>\n",
       "      <td>Espana</td>\n",
       "      <td>Toro</td>\n",
       "      <td>995.00</td>\n",
       "      <td>Toro Red</td>\n",
       "      <td>5.0</td>\n",
       "      <td>3.0</td>\n",
       "    </tr>\n",
       "    <tr>\n",
       "      <th>1</th>\n",
       "      <td>Artadi</td>\n",
       "      <td>Vina El Pison</td>\n",
       "      <td>2018</td>\n",
       "      <td>4.9</td>\n",
       "      <td>31</td>\n",
       "      <td>Espana</td>\n",
       "      <td>Vino de Espana</td>\n",
       "      <td>313.50</td>\n",
       "      <td>Tempranillo</td>\n",
       "      <td>4.0</td>\n",
       "      <td>2.0</td>\n",
       "    </tr>\n",
       "    <tr>\n",
       "      <th>2</th>\n",
       "      <td>Vega Sicilia</td>\n",
       "      <td>Unico</td>\n",
       "      <td>2009</td>\n",
       "      <td>4.8</td>\n",
       "      <td>1793</td>\n",
       "      <td>Espana</td>\n",
       "      <td>Ribera del Duero</td>\n",
       "      <td>324.95</td>\n",
       "      <td>Ribera Del Duero Red</td>\n",
       "      <td>5.0</td>\n",
       "      <td>3.0</td>\n",
       "    </tr>\n",
       "    <tr>\n",
       "      <th>3</th>\n",
       "      <td>Vega Sicilia</td>\n",
       "      <td>Unico</td>\n",
       "      <td>1999</td>\n",
       "      <td>4.8</td>\n",
       "      <td>1705</td>\n",
       "      <td>Espana</td>\n",
       "      <td>Ribera del Duero</td>\n",
       "      <td>692.96</td>\n",
       "      <td>Ribera Del Duero Red</td>\n",
       "      <td>5.0</td>\n",
       "      <td>3.0</td>\n",
       "    </tr>\n",
       "    <tr>\n",
       "      <th>4</th>\n",
       "      <td>Vega Sicilia</td>\n",
       "      <td>Unico</td>\n",
       "      <td>1996</td>\n",
       "      <td>4.8</td>\n",
       "      <td>1309</td>\n",
       "      <td>Espana</td>\n",
       "      <td>Ribera del Duero</td>\n",
       "      <td>778.06</td>\n",
       "      <td>Ribera Del Duero Red</td>\n",
       "      <td>5.0</td>\n",
       "      <td>3.0</td>\n",
       "    </tr>\n",
       "    <tr>\n",
       "      <th>...</th>\n",
       "      <td>...</td>\n",
       "      <td>...</td>\n",
       "      <td>...</td>\n",
       "      <td>...</td>\n",
       "      <td>...</td>\n",
       "      <td>...</td>\n",
       "      <td>...</td>\n",
       "      <td>...</td>\n",
       "      <td>...</td>\n",
       "      <td>...</td>\n",
       "      <td>...</td>\n",
       "    </tr>\n",
       "    <tr>\n",
       "      <th>7495</th>\n",
       "      <td>Contino</td>\n",
       "      <td>Reserva</td>\n",
       "      <td>2016</td>\n",
       "      <td>4.2</td>\n",
       "      <td>392</td>\n",
       "      <td>Espana</td>\n",
       "      <td>Rioja</td>\n",
       "      <td>19.98</td>\n",
       "      <td>Rioja Red</td>\n",
       "      <td>4.0</td>\n",
       "      <td>3.0</td>\n",
       "    </tr>\n",
       "    <tr>\n",
       "      <th>7496</th>\n",
       "      <td>Conreria d'Scala Dei</td>\n",
       "      <td>Les Brugueres</td>\n",
       "      <td>2018</td>\n",
       "      <td>4.2</td>\n",
       "      <td>390</td>\n",
       "      <td>Espana</td>\n",
       "      <td>Priorato</td>\n",
       "      <td>16.76</td>\n",
       "      <td>Priorat Red</td>\n",
       "      <td>4.0</td>\n",
       "      <td>3.0</td>\n",
       "    </tr>\n",
       "    <tr>\n",
       "      <th>7497</th>\n",
       "      <td>Mustiguillo</td>\n",
       "      <td>Finca Terrerazo</td>\n",
       "      <td>2017</td>\n",
       "      <td>4.2</td>\n",
       "      <td>390</td>\n",
       "      <td>Espana</td>\n",
       "      <td>El Terrerazo</td>\n",
       "      <td>24.45</td>\n",
       "      <td>Red</td>\n",
       "      <td>4.0</td>\n",
       "      <td>3.0</td>\n",
       "    </tr>\n",
       "    <tr>\n",
       "      <th>7498</th>\n",
       "      <td>Matarromera</td>\n",
       "      <td>Gran Reserva</td>\n",
       "      <td>2011</td>\n",
       "      <td>4.2</td>\n",
       "      <td>389</td>\n",
       "      <td>Espana</td>\n",
       "      <td>Ribera del Duero</td>\n",
       "      <td>64.50</td>\n",
       "      <td>Ribera Del Duero Red</td>\n",
       "      <td>5.0</td>\n",
       "      <td>3.0</td>\n",
       "    </tr>\n",
       "    <tr>\n",
       "      <th>7499</th>\n",
       "      <td>Sei Solo</td>\n",
       "      <td>Preludio</td>\n",
       "      <td>2016</td>\n",
       "      <td>4.2</td>\n",
       "      <td>388</td>\n",
       "      <td>Espana</td>\n",
       "      <td>Ribera del Duero</td>\n",
       "      <td>31.63</td>\n",
       "      <td>Ribera Del Duero Red</td>\n",
       "      <td>5.0</td>\n",
       "      <td>3.0</td>\n",
       "    </tr>\n",
       "  </tbody>\n",
       "</table>\n",
       "<p>7500 rows × 11 columns</p>\n",
       "</div>"
      ],
      "text/plain": [
       "                    winery             wine  year  rating  num_reviews  \\\n",
       "0            Teso La Monja            Tinto  2013     4.9           58   \n",
       "1                   Artadi    Vina El Pison  2018     4.9           31   \n",
       "2             Vega Sicilia            Unico  2009     4.8         1793   \n",
       "3             Vega Sicilia            Unico  1999     4.8         1705   \n",
       "4             Vega Sicilia            Unico  1996     4.8         1309   \n",
       "...                    ...              ...   ...     ...          ...   \n",
       "7495               Contino          Reserva  2016     4.2          392   \n",
       "7496  Conreria d'Scala Dei    Les Brugueres  2018     4.2          390   \n",
       "7497           Mustiguillo  Finca Terrerazo  2017     4.2          390   \n",
       "7498           Matarromera     Gran Reserva  2011     4.2          389   \n",
       "7499              Sei Solo         Preludio  2016     4.2          388   \n",
       "\n",
       "     country            region   price                  type  body  acidity  \n",
       "0     Espana              Toro  995.00              Toro Red   5.0      3.0  \n",
       "1     Espana    Vino de Espana  313.50           Tempranillo   4.0      2.0  \n",
       "2     Espana  Ribera del Duero  324.95  Ribera Del Duero Red   5.0      3.0  \n",
       "3     Espana  Ribera del Duero  692.96  Ribera Del Duero Red   5.0      3.0  \n",
       "4     Espana  Ribera del Duero  778.06  Ribera Del Duero Red   5.0      3.0  \n",
       "...      ...               ...     ...                   ...   ...      ...  \n",
       "7495  Espana             Rioja   19.98             Rioja Red   4.0      3.0  \n",
       "7496  Espana          Priorato   16.76           Priorat Red   4.0      3.0  \n",
       "7497  Espana      El Terrerazo   24.45                   Red   4.0      3.0  \n",
       "7498  Espana  Ribera del Duero   64.50  Ribera Del Duero Red   5.0      3.0  \n",
       "7499  Espana  Ribera del Duero   31.63  Ribera Del Duero Red   5.0      3.0  \n",
       "\n",
       "[7500 rows x 11 columns]"
      ]
     },
     "execution_count": 5,
     "metadata": {},
     "output_type": "execute_result"
    }
   ],
   "source": [
    "df"
   ]
  },
  {
   "cell_type": "markdown",
   "id": "de098392",
   "metadata": {},
   "source": [
    "# checking for missing data\n"
   ]
  },
  {
   "cell_type": "code",
   "execution_count": 6,
   "id": "f65bfb0e",
   "metadata": {},
   "outputs": [
    {
     "data": {
      "text/plain": [
       "winery          0.000000\n",
       "wine            0.000000\n",
       "year            0.026667\n",
       "rating          0.000000\n",
       "num_reviews     0.000000\n",
       "country         0.000000\n",
       "region          0.000000\n",
       "price           0.000000\n",
       "type            7.266667\n",
       "body           15.586667\n",
       "acidity        15.586667\n",
       "dtype: float64"
      ]
     },
     "execution_count": 6,
     "metadata": {},
     "output_type": "execute_result"
    }
   ],
   "source": [
    "df.isnull().mean()*100"
   ]
  },
  {
   "cell_type": "code",
   "execution_count": 7,
   "id": "f6be9860",
   "metadata": {},
   "outputs": [],
   "source": [
    "missing_columns = df.columns[df.isnull().any()].tolist()\n"
   ]
  },
  {
   "cell_type": "code",
   "execution_count": 8,
   "id": "6af543f5",
   "metadata": {},
   "outputs": [],
   "source": [
    "for col in missing_columns:\n",
    "    most_frequent_category = df[col].mode()[0]\n",
    "    df[col].fillna(most_frequent_category, inplace=True)"
   ]
  },
  {
   "cell_type": "code",
   "execution_count": 9,
   "id": "365e3ad6",
   "metadata": {},
   "outputs": [
    {
     "data": {
      "text/plain": [
       "winery         0.0\n",
       "wine           0.0\n",
       "year           0.0\n",
       "rating         0.0\n",
       "num_reviews    0.0\n",
       "country        0.0\n",
       "region         0.0\n",
       "price          0.0\n",
       "type           0.0\n",
       "body           0.0\n",
       "acidity        0.0\n",
       "dtype: float64"
      ]
     },
     "execution_count": 9,
     "metadata": {},
     "output_type": "execute_result"
    }
   ],
   "source": [
    "df.isnull().mean()*100"
   ]
  },
  {
   "cell_type": "markdown",
   "id": "d9ada2a3",
   "metadata": {},
   "source": [
    "# checking for duplicate data"
   ]
  },
  {
   "cell_type": "code",
   "execution_count": 10,
   "id": "e01219e8",
   "metadata": {},
   "outputs": [
    {
     "name": "stdout",
     "output_type": "stream",
     "text": [
      "yes\n"
     ]
    }
   ],
   "source": [
    "duplicates_exist = df.duplicated().any()\n",
    "\n",
    "if duplicates_exist:\n",
    "    print(\"yes\")\n",
    "else:\n",
    "    print(\"No\")"
   ]
  },
  {
   "cell_type": "markdown",
   "id": "c9d4c4aa",
   "metadata": {},
   "source": [
    "# removing duplicates"
   ]
  },
  {
   "cell_type": "code",
   "execution_count": 11,
   "id": "6e72b1f6",
   "metadata": {},
   "outputs": [],
   "source": [
    "df.drop_duplicates(inplace=True)\n"
   ]
  },
  {
   "cell_type": "code",
   "execution_count": 12,
   "id": "5d83f3b0",
   "metadata": {},
   "outputs": [
    {
     "name": "stdout",
     "output_type": "stream",
     "text": [
      "No\n"
     ]
    }
   ],
   "source": [
    "duplicates_exist = df.duplicated().any()\n",
    "\n",
    "if duplicates_exist:\n",
    "    print(\"yes\")\n",
    "else:\n",
    "    print(\"No\")"
   ]
  }
 ],
 "metadata": {
  "kernelspec": {
   "display_name": "Python 3 (ipykernel)",
   "language": "python",
   "name": "python3"
  },
  "language_info": {
   "codemirror_mode": {
    "name": "ipython",
    "version": 3
   },
   "file_extension": ".py",
   "mimetype": "text/x-python",
   "name": "python",
   "nbconvert_exporter": "python",
   "pygments_lexer": "ipython3",
   "version": "3.11.5"
  }
 },
 "nbformat": 4,
 "nbformat_minor": 5
}
